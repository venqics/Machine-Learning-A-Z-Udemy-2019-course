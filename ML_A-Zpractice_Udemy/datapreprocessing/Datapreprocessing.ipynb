{
 "cells": [
  {
   "cell_type": "code",
   "execution_count": 13,
   "metadata": {},
   "outputs": [],
   "source": [
    "#Importing the libraries\n",
    "import numpy as np\n",
    "import matplotlib.pyplot as plt\n",
    "import pandas as pd\n",
    "import os\n"
   ]
  },
  {
   "cell_type": "code",
   "execution_count": 14,
   "metadata": {
    "scrolled": true
   },
   "outputs": [
    {
     "data": {
      "text/html": [
       "<div>\n",
       "<style scoped>\n",
       "    .dataframe tbody tr th:only-of-type {\n",
       "        vertical-align: middle;\n",
       "    }\n",
       "\n",
       "    .dataframe tbody tr th {\n",
       "        vertical-align: top;\n",
       "    }\n",
       "\n",
       "    .dataframe thead th {\n",
       "        text-align: right;\n",
       "    }\n",
       "</style>\n",
       "<table border=\"1\" class=\"dataframe\">\n",
       "  <thead>\n",
       "    <tr style=\"text-align: right;\">\n",
       "      <th></th>\n",
       "      <th>Country</th>\n",
       "      <th>Age</th>\n",
       "      <th>Salary</th>\n",
       "      <th>Purchased</th>\n",
       "    </tr>\n",
       "  </thead>\n",
       "  <tbody>\n",
       "    <tr>\n",
       "      <th>0</th>\n",
       "      <td>France</td>\n",
       "      <td>44.0</td>\n",
       "      <td>72000.0</td>\n",
       "      <td>No</td>\n",
       "    </tr>\n",
       "    <tr>\n",
       "      <th>1</th>\n",
       "      <td>Spain</td>\n",
       "      <td>27.0</td>\n",
       "      <td>48000.0</td>\n",
       "      <td>Yes</td>\n",
       "    </tr>\n",
       "    <tr>\n",
       "      <th>2</th>\n",
       "      <td>Germany</td>\n",
       "      <td>30.0</td>\n",
       "      <td>54000.0</td>\n",
       "      <td>No</td>\n",
       "    </tr>\n",
       "    <tr>\n",
       "      <th>3</th>\n",
       "      <td>Spain</td>\n",
       "      <td>38.0</td>\n",
       "      <td>61000.0</td>\n",
       "      <td>No</td>\n",
       "    </tr>\n",
       "    <tr>\n",
       "      <th>4</th>\n",
       "      <td>Germany</td>\n",
       "      <td>40.0</td>\n",
       "      <td>NaN</td>\n",
       "      <td>Yes</td>\n",
       "    </tr>\n",
       "  </tbody>\n",
       "</table>\n",
       "</div>"
      ],
      "text/plain": [
       "   Country   Age   Salary Purchased\n",
       "0   France  44.0  72000.0        No\n",
       "1    Spain  27.0  48000.0       Yes\n",
       "2  Germany  30.0  54000.0        No\n",
       "3    Spain  38.0  61000.0        No\n",
       "4  Germany  40.0      NaN       Yes"
      ]
     },
     "execution_count": 14,
     "metadata": {},
     "output_type": "execute_result"
    }
   ],
   "source": [
    "#Importing the dataset\n",
    "\n",
    "dataset = pd.read_csv(r\"C:\\Users\\venxr\\Documents\\MLA-Zpractice/Data.csv\")\n",
    "\n",
    "dataset.head()\n",
    "\n"
   ]
  },
  {
   "cell_type": "code",
   "execution_count": 15,
   "metadata": {},
   "outputs": [],
   "source": [
    "X = dataset.iloc[:, :-1].values\n",
    "y = dataset.iloc[:, 3].values"
   ]
  },
  {
   "cell_type": "code",
   "execution_count": 16,
   "metadata": {},
   "outputs": [
    {
     "data": {
      "text/plain": [
       "array([['France', 44.0, 72000.0],\n",
       "       ['Spain', 27.0, 48000.0],\n",
       "       ['Germany', 30.0, 54000.0],\n",
       "       ['Spain', 38.0, 61000.0],\n",
       "       ['Germany', 40.0, nan],\n",
       "       ['France', 35.0, 58000.0],\n",
       "       ['Spain', nan, 52000.0],\n",
       "       ['France', 48.0, 79000.0],\n",
       "       ['Germany', 50.0, 83000.0],\n",
       "       ['France', 37.0, 67000.0]], dtype=object)"
      ]
     },
     "execution_count": 16,
     "metadata": {},
     "output_type": "execute_result"
    }
   ],
   "source": [
    "X"
   ]
  },
  {
   "cell_type": "code",
   "execution_count": 17,
   "metadata": {},
   "outputs": [
    {
     "data": {
      "text/plain": [
       "array(['No', 'Yes', 'No', 'No', 'Yes', 'Yes', 'No', 'Yes', 'No', 'Yes'],\n",
       "      dtype=object)"
      ]
     },
     "execution_count": 17,
     "metadata": {},
     "output_type": "execute_result"
    }
   ],
   "source": [
    "y"
   ]
  },
  {
   "cell_type": "code",
   "execution_count": 18,
   "metadata": {},
   "outputs": [
    {
     "name": "stderr",
     "output_type": "stream",
     "text": [
      "C:\\Users\\venxr\\Anaconda3\\lib\\site-packages\\sklearn\\utils\\deprecation.py:66: DeprecationWarning: Class Imputer is deprecated; Imputer was deprecated in version 0.20 and will be removed in 0.22. Import impute.SimpleImputer from sklearn instead.\n",
      "  warnings.warn(msg, category=DeprecationWarning)\n"
     ]
    }
   ],
   "source": [
    "from sklearn.preprocessing import Imputer\n",
    "imputer = Imputer(missing_values='NaN', strategy='mean',axis=0)\n",
    "imputer = imputer.fit(X[:,1:3])\n",
    "X[:, 1:3]= imputer.transform(X[:, 1:3])"
   ]
  },
  {
   "cell_type": "code",
   "execution_count": 19,
   "metadata": {},
   "outputs": [
    {
     "data": {
      "text/plain": [
       "array([['France', 44.0, 72000.0],\n",
       "       ['Spain', 27.0, 48000.0],\n",
       "       ['Germany', 30.0, 54000.0],\n",
       "       ['Spain', 38.0, 61000.0],\n",
       "       ['Germany', 40.0, 63777.77777777778],\n",
       "       ['France', 35.0, 58000.0],\n",
       "       ['Spain', 38.77777777777778, 52000.0],\n",
       "       ['France', 48.0, 79000.0],\n",
       "       ['Germany', 50.0, 83000.0],\n",
       "       ['France', 37.0, 67000.0]], dtype=object)"
      ]
     },
     "execution_count": 19,
     "metadata": {},
     "output_type": "execute_result"
    }
   ],
   "source": [
    "X"
   ]
  },
  {
   "cell_type": "code",
   "execution_count": 22,
   "metadata": {},
   "outputs": [
    {
     "name": "stderr",
     "output_type": "stream",
     "text": [
      "C:\\Users\\venxr\\Anaconda3\\lib\\site-packages\\sklearn\\preprocessing\\_encoders.py:415: FutureWarning: The handling of integer data will change in version 0.22. Currently, the categories are determined based on the range [0, max(values)], while in the future they will be determined based on the unique values.\n",
      "If you want the future behaviour and silence this warning, you can specify \"categories='auto'\".\n",
      "In case you used a LabelEncoder before this OneHotEncoder to convert the categories to integers, then you can now use the OneHotEncoder directly.\n",
      "  warnings.warn(msg, FutureWarning)\n",
      "C:\\Users\\venxr\\Anaconda3\\lib\\site-packages\\sklearn\\preprocessing\\_encoders.py:451: DeprecationWarning: The 'categorical_features' keyword is deprecated in version 0.20 and will be removed in 0.22. You can use the ColumnTransformer instead.\n",
      "  \"use the ColumnTransformer instead.\", DeprecationWarning)\n"
     ]
    }
   ],
   "source": [
    "#Encoding categorical data\n",
    "\n",
    "from sklearn.preprocessing import LabelEncoder, OneHotEncoder\n",
    "\n",
    "labelencoder_X = LabelEncoder()\n",
    "\n",
    "X[:, 0] = labelencoder_X.fit_transform(X[:, 0])\n",
    "\n",
    "onehotencoder = OneHotEncoder(categorical_features = [0])\n",
    "\n",
    "X = onehotencoder.fit_transform(X).toarray()"
   ]
  },
  {
   "cell_type": "code",
   "execution_count": 21,
   "metadata": {},
   "outputs": [
    {
     "data": {
      "text/plain": [
       "array([[0, 44.0, 72000.0],\n",
       "       [2, 27.0, 48000.0],\n",
       "       [1, 30.0, 54000.0],\n",
       "       [2, 38.0, 61000.0],\n",
       "       [1, 40.0, 63777.77777777778],\n",
       "       [0, 35.0, 58000.0],\n",
       "       [2, 38.77777777777778, 52000.0],\n",
       "       [0, 48.0, 79000.0],\n",
       "       [1, 50.0, 83000.0],\n",
       "       [0, 37.0, 67000.0]], dtype=object)"
      ]
     },
     "execution_count": 21,
     "metadata": {},
     "output_type": "execute_result"
    }
   ],
   "source": [
    "X"
   ]
  },
  {
   "cell_type": "code",
   "execution_count": 23,
   "metadata": {},
   "outputs": [
    {
     "ename": "AttributeError",
     "evalue": "'numpy.ndarray' object has no attribute 'dataframe'",
     "output_type": "error",
     "traceback": [
      "\u001b[1;31m---------------------------------------------------------------------------\u001b[0m",
      "\u001b[1;31mAttributeError\u001b[0m                            Traceback (most recent call last)",
      "\u001b[1;32m<ipython-input-23-b5511cb047fe>\u001b[0m in \u001b[0;36m<module>\u001b[1;34m\u001b[0m\n\u001b[1;32m----> 1\u001b[1;33m \u001b[0mX\u001b[0m\u001b[1;33m.\u001b[0m\u001b[0mdataframe\u001b[0m\u001b[1;33m\u001b[0m\u001b[1;33m\u001b[0m\u001b[0m\n\u001b[0m",
      "\u001b[1;31mAttributeError\u001b[0m: 'numpy.ndarray' object has no attribute 'dataframe'"
     ]
    }
   ],
   "source": []
  },
  {
   "cell_type": "code",
   "execution_count": 27,
   "metadata": {},
   "outputs": [],
   "source": [
    "onehotencoder = OneHotEncoder(categories = \"auto\")\n",
    "\n",
    "X = onehotencoder.fit_transform(X).toarray()"
   ]
  },
  {
   "cell_type": "code",
   "execution_count": 28,
   "metadata": {},
   "outputs": [
    {
     "data": {
      "text/plain": [
       "array([[0., 1., 1., 0., 1., 0., 0., 1., 0., 1., 1., 0., 0., 1., 1., 0.,\n",
       "        1., 0., 1., 0., 1., 0., 1., 0., 1., 0., 1., 0., 1., 0., 0., 1.,\n",
       "        1., 0., 1., 0., 1., 0., 1., 0., 1., 0., 1., 0., 1., 0., 1., 0.,\n",
       "        1., 0., 0., 1., 1., 0., 1., 0.],\n",
       "       [1., 0., 0., 1., 0., 1., 1., 0., 0., 1., 1., 0., 1., 0., 0., 1.,\n",
       "        0., 1., 1., 0., 1., 0., 1., 0., 1., 0., 1., 0., 1., 0., 1., 0.,\n",
       "        1., 0., 1., 0., 0., 1., 1., 0., 1., 0., 1., 0., 1., 0., 1., 0.,\n",
       "        1., 0., 1., 0., 1., 0., 1., 0.],\n",
       "       [1., 0., 0., 1., 0., 1., 1., 0., 1., 0., 0., 1., 0., 1., 1., 0.,\n",
       "        1., 0., 0., 1., 1., 0., 1., 0., 1., 0., 1., 0., 1., 0., 1., 0.,\n",
       "        1., 0., 1., 0., 1., 0., 1., 0., 0., 1., 1., 0., 1., 0., 1., 0.,\n",
       "        1., 0., 1., 0., 1., 0., 1., 0.],\n",
       "       [1., 0., 0., 1., 0., 1., 1., 0., 0., 1., 1., 0., 1., 0., 0., 1.,\n",
       "        1., 0., 1., 0., 1., 0., 1., 0., 0., 1., 1., 0., 1., 0., 1., 0.,\n",
       "        1., 0., 1., 0., 1., 0., 1., 0., 1., 0., 1., 0., 0., 1., 1., 0.,\n",
       "        1., 0., 1., 0., 1., 0., 1., 0.],\n",
       "       [1., 0., 0., 1., 0., 1., 1., 0., 1., 0., 0., 1., 0., 1., 1., 0.,\n",
       "        1., 0., 1., 0., 1., 0., 1., 0., 1., 0., 1., 0., 0., 1., 1., 0.,\n",
       "        1., 0., 1., 0., 1., 0., 1., 0., 1., 0., 1., 0., 1., 0., 0., 1.,\n",
       "        1., 0., 1., 0., 1., 0., 1., 0.],\n",
       "       [0., 1., 1., 0., 1., 0., 0., 1., 0., 1., 1., 0., 0., 1., 1., 0.,\n",
       "        1., 0., 1., 0., 0., 1., 1., 0., 1., 0., 1., 0., 1., 0., 1., 0.,\n",
       "        1., 0., 1., 0., 1., 0., 1., 0., 1., 0., 0., 1., 1., 0., 1., 0.,\n",
       "        1., 0., 1., 0., 1., 0., 1., 0.],\n",
       "       [1., 0., 0., 1., 0., 1., 1., 0., 0., 1., 1., 0., 1., 0., 0., 1.,\n",
       "        1., 0., 1., 0., 1., 0., 1., 0., 1., 0., 0., 1., 1., 0., 1., 0.,\n",
       "        1., 0., 1., 0., 1., 0., 0., 1., 1., 0., 1., 0., 1., 0., 1., 0.,\n",
       "        1., 0., 1., 0., 1., 0., 1., 0.],\n",
       "       [0., 1., 1., 0., 1., 0., 0., 1., 0., 1., 1., 0., 0., 1., 1., 0.,\n",
       "        1., 0., 1., 0., 1., 0., 1., 0., 1., 0., 1., 0., 1., 0., 1., 0.,\n",
       "        0., 1., 1., 0., 1., 0., 1., 0., 1., 0., 1., 0., 1., 0., 1., 0.,\n",
       "        1., 0., 1., 0., 0., 1., 1., 0.],\n",
       "       [1., 0., 0., 1., 0., 1., 1., 0., 1., 0., 0., 1., 0., 1., 1., 0.,\n",
       "        1., 0., 1., 0., 1., 0., 1., 0., 1., 0., 1., 0., 1., 0., 1., 0.,\n",
       "        1., 0., 0., 1., 1., 0., 1., 0., 1., 0., 1., 0., 1., 0., 1., 0.,\n",
       "        1., 0., 1., 0., 1., 0., 0., 1.],\n",
       "       [0., 1., 1., 0., 1., 0., 0., 1., 0., 1., 1., 0., 0., 1., 1., 0.,\n",
       "        1., 0., 1., 0., 1., 0., 0., 1., 1., 0., 1., 0., 1., 0., 1., 0.,\n",
       "        1., 0., 1., 0., 1., 0., 1., 0., 1., 0., 1., 0., 1., 0., 1., 0.,\n",
       "        0., 1., 1., 0., 1., 0., 1., 0.]])"
      ]
     },
     "execution_count": 28,
     "metadata": {},
     "output_type": "execute_result"
    }
   ],
   "source": [
    "X"
   ]
  },
  {
   "cell_type": "code",
   "execution_count": 32,
   "metadata": {},
   "outputs": [],
   "source": [
    "labelencoder_y = LabelEncoder()\n",
    "\n",
    "y = labelencoder_y.fit_transform(y)\n"
   ]
  },
  {
   "cell_type": "code",
   "execution_count": 33,
   "metadata": {},
   "outputs": [
    {
     "data": {
      "text/plain": [
       "array([0, 1, 0, 0, 1, 1, 0, 1, 0, 1], dtype=int64)"
      ]
     },
     "execution_count": 33,
     "metadata": {},
     "output_type": "execute_result"
    }
   ],
   "source": [
    "y"
   ]
  },
  {
   "cell_type": "code",
   "execution_count": 35,
   "metadata": {},
   "outputs": [],
   "source": [
    "#Splitting the dataset into the Training set and Test set\n",
    "\n",
    "from sklearn.model_selection import train_test_split\n",
    "X_train, X_test, y_train, y_test = train_test_split(X, y, test_size=0.2, random_state=0)\n"
   ]
  },
  {
   "cell_type": "code",
   "execution_count": 36,
   "metadata": {},
   "outputs": [
    {
     "data": {
      "text/plain": [
       "((8, 56), (8,))"
      ]
     },
     "execution_count": 36,
     "metadata": {},
     "output_type": "execute_result"
    }
   ],
   "source": [
    "X_train.shape, y_train.shape"
   ]
  },
  {
   "cell_type": "code",
   "execution_count": 37,
   "metadata": {},
   "outputs": [
    {
     "data": {
      "text/plain": [
       "((2, 56), (2,))"
      ]
     },
     "execution_count": 37,
     "metadata": {},
     "output_type": "execute_result"
    }
   ],
   "source": [
    "X_test.shape, y_test.shape\n"
   ]
  },
  {
   "cell_type": "code",
   "execution_count": null,
   "metadata": {},
   "outputs": [],
   "source": []
  },
  {
   "cell_type": "raw",
   "metadata": {},
   "source": [
    "#Feature Scaling\n",
    "\n",
    "#Standardization -> x - mean(x)/stdev(x)          #Normalization -> x-min(x)/max(x)-min(x)\n",
    "\n",
    "from sklearn.preprocessing import StandardScaler\n",
    "sc_X = StandardScaler()\n",
    "x_train = sc_X.fit_transform(X_train)\n",
    "x_test = sc_X.transform(X_test)"
   ]
  },
  {
   "cell_type": "code",
   "execution_count": 39,
   "metadata": {},
   "outputs": [
    {
     "data": {
      "text/plain": [
       "array([[ 1.        , -1.        , -1.        ,  1.        , -1.        ,\n",
       "         1.        ,  1.        , -1.        ,  2.64575131, -2.64575131,\n",
       "        -2.64575131,  2.64575131, -0.77459667,  0.77459667,  0.77459667,\n",
       "        -0.77459667,  0.37796447, -0.37796447,  0.        ,  0.        ,\n",
       "         0.37796447, -0.37796447,  0.37796447, -0.37796447,  0.37796447,\n",
       "        -0.37796447,  0.37796447, -0.37796447, -2.64575131,  2.64575131,\n",
       "         0.37796447, -0.37796447,  0.37796447, -0.37796447,  0.        ,\n",
       "         0.        ,  0.37796447, -0.37796447,  0.37796447, -0.37796447,\n",
       "         0.        ,  0.        ,  0.37796447, -0.37796447,  0.37796447,\n",
       "        -0.37796447, -2.64575131,  2.64575131,  0.37796447, -0.37796447,\n",
       "         0.37796447, -0.37796447,  0.37796447, -0.37796447,  0.        ,\n",
       "         0.        ],\n",
       "       [-1.        ,  1.        ,  1.        , -1.        ,  1.        ,\n",
       "        -1.        , -1.        ,  1.        , -0.37796447,  0.37796447,\n",
       "         0.37796447, -0.37796447, -0.77459667,  0.77459667,  0.77459667,\n",
       "        -0.77459667,  0.37796447, -0.37796447,  0.        ,  0.        ,\n",
       "         0.37796447, -0.37796447, -2.64575131,  2.64575131,  0.37796447,\n",
       "        -0.37796447,  0.37796447, -0.37796447,  0.37796447, -0.37796447,\n",
       "         0.37796447, -0.37796447,  0.37796447, -0.37796447,  0.        ,\n",
       "         0.        ,  0.37796447, -0.37796447,  0.37796447, -0.37796447,\n",
       "         0.        ,  0.        ,  0.37796447, -0.37796447,  0.37796447,\n",
       "        -0.37796447,  0.37796447, -0.37796447, -2.64575131,  2.64575131,\n",
       "         0.37796447, -0.37796447,  0.37796447, -0.37796447,  0.        ,\n",
       "         0.        ],\n",
       "       [ 1.        , -1.        , -1.        ,  1.        , -1.        ,\n",
       "         1.        ,  1.        , -1.        , -0.37796447,  0.37796447,\n",
       "         0.37796447, -0.37796447,  1.29099445, -1.29099445, -1.29099445,\n",
       "         1.29099445, -2.64575131,  2.64575131,  0.        ,  0.        ,\n",
       "         0.37796447, -0.37796447,  0.37796447, -0.37796447,  0.37796447,\n",
       "        -0.37796447,  0.37796447, -0.37796447,  0.37796447, -0.37796447,\n",
       "         0.37796447, -0.37796447,  0.37796447, -0.37796447,  0.        ,\n",
       "         0.        , -2.64575131,  2.64575131,  0.37796447, -0.37796447,\n",
       "         0.        ,  0.        ,  0.37796447, -0.37796447,  0.37796447,\n",
       "        -0.37796447,  0.37796447, -0.37796447,  0.37796447, -0.37796447,\n",
       "         0.37796447, -0.37796447,  0.37796447, -0.37796447,  0.        ,\n",
       "         0.        ],\n",
       "       [ 1.        , -1.        , -1.        ,  1.        , -1.        ,\n",
       "         1.        ,  1.        , -1.        , -0.37796447,  0.37796447,\n",
       "         0.37796447, -0.37796447,  1.29099445, -1.29099445, -1.29099445,\n",
       "         1.29099445,  0.37796447, -0.37796447,  0.        ,  0.        ,\n",
       "         0.37796447, -0.37796447,  0.37796447, -0.37796447,  0.37796447,\n",
       "        -0.37796447, -2.64575131,  2.64575131,  0.37796447, -0.37796447,\n",
       "         0.37796447, -0.37796447,  0.37796447, -0.37796447,  0.        ,\n",
       "         0.        ,  0.37796447, -0.37796447, -2.64575131,  2.64575131,\n",
       "         0.        ,  0.        ,  0.37796447, -0.37796447,  0.37796447,\n",
       "        -0.37796447,  0.37796447, -0.37796447,  0.37796447, -0.37796447,\n",
       "         0.37796447, -0.37796447,  0.37796447, -0.37796447,  0.        ,\n",
       "         0.        ],\n",
       "       [-1.        ,  1.        ,  1.        , -1.        ,  1.        ,\n",
       "        -1.        , -1.        ,  1.        , -0.37796447,  0.37796447,\n",
       "         0.37796447, -0.37796447, -0.77459667,  0.77459667,  0.77459667,\n",
       "        -0.77459667,  0.37796447, -0.37796447,  0.        ,  0.        ,\n",
       "         0.37796447, -0.37796447,  0.37796447, -0.37796447,  0.37796447,\n",
       "        -0.37796447,  0.37796447, -0.37796447,  0.37796447, -0.37796447,\n",
       "         0.37796447, -0.37796447, -2.64575131,  2.64575131,  0.        ,\n",
       "         0.        ,  0.37796447, -0.37796447,  0.37796447, -0.37796447,\n",
       "         0.        ,  0.        ,  0.37796447, -0.37796447,  0.37796447,\n",
       "        -0.37796447,  0.37796447, -0.37796447,  0.37796447, -0.37796447,\n",
       "         0.37796447, -0.37796447, -2.64575131,  2.64575131,  0.        ,\n",
       "         0.        ],\n",
       "       [ 1.        , -1.        , -1.        ,  1.        , -1.        ,\n",
       "         1.        ,  1.        , -1.        , -0.37796447,  0.37796447,\n",
       "         0.37796447, -0.37796447,  1.29099445, -1.29099445, -1.29099445,\n",
       "         1.29099445,  0.37796447, -0.37796447,  0.        ,  0.        ,\n",
       "         0.37796447, -0.37796447,  0.37796447, -0.37796447, -2.64575131,\n",
       "         2.64575131,  0.37796447, -0.37796447,  0.37796447, -0.37796447,\n",
       "         0.37796447, -0.37796447,  0.37796447, -0.37796447,  0.        ,\n",
       "         0.        ,  0.37796447, -0.37796447,  0.37796447, -0.37796447,\n",
       "         0.        ,  0.        ,  0.37796447, -0.37796447, -2.64575131,\n",
       "         2.64575131,  0.37796447, -0.37796447,  0.37796447, -0.37796447,\n",
       "         0.37796447, -0.37796447,  0.37796447, -0.37796447,  0.        ,\n",
       "         0.        ],\n",
       "       [-1.        ,  1.        ,  1.        , -1.        ,  1.        ,\n",
       "        -1.        , -1.        ,  1.        , -0.37796447,  0.37796447,\n",
       "         0.37796447, -0.37796447, -0.77459667,  0.77459667,  0.77459667,\n",
       "        -0.77459667,  0.37796447, -0.37796447,  0.        ,  0.        ,\n",
       "         0.37796447, -0.37796447,  0.37796447, -0.37796447,  0.37796447,\n",
       "        -0.37796447,  0.37796447, -0.37796447,  0.37796447, -0.37796447,\n",
       "        -2.64575131,  2.64575131,  0.37796447, -0.37796447,  0.        ,\n",
       "         0.        ,  0.37796447, -0.37796447,  0.37796447, -0.37796447,\n",
       "         0.        ,  0.        ,  0.37796447, -0.37796447,  0.37796447,\n",
       "        -0.37796447,  0.37796447, -0.37796447,  0.37796447, -0.37796447,\n",
       "        -2.64575131,  2.64575131,  0.37796447, -0.37796447,  0.        ,\n",
       "         0.        ],\n",
       "       [-1.        ,  1.        ,  1.        , -1.        ,  1.        ,\n",
       "        -1.        , -1.        ,  1.        , -0.37796447,  0.37796447,\n",
       "         0.37796447, -0.37796447, -0.77459667,  0.77459667,  0.77459667,\n",
       "        -0.77459667,  0.37796447, -0.37796447,  0.        ,  0.        ,\n",
       "        -2.64575131,  2.64575131,  0.37796447, -0.37796447,  0.37796447,\n",
       "        -0.37796447,  0.37796447, -0.37796447,  0.37796447, -0.37796447,\n",
       "         0.37796447, -0.37796447,  0.37796447, -0.37796447,  0.        ,\n",
       "         0.        ,  0.37796447, -0.37796447,  0.37796447, -0.37796447,\n",
       "         0.        ,  0.        , -2.64575131,  2.64575131,  0.37796447,\n",
       "        -0.37796447,  0.37796447, -0.37796447,  0.37796447, -0.37796447,\n",
       "         0.37796447, -0.37796447,  0.37796447, -0.37796447,  0.        ,\n",
       "         0.        ]])"
      ]
     },
     "execution_count": 39,
     "metadata": {},
     "output_type": "execute_result"
    }
   ],
   "source": [
    "x_train"
   ]
  },
  {
   "cell_type": "code",
   "execution_count": null,
   "metadata": {},
   "outputs": [],
   "source": []
  }
 ],
 "metadata": {
  "kernelspec": {
   "display_name": "Python 3",
   "language": "python",
   "name": "python3"
  },
  "language_info": {
   "codemirror_mode": {
    "name": "ipython",
    "version": 3
   },
   "file_extension": ".py",
   "mimetype": "text/x-python",
   "name": "python",
   "nbconvert_exporter": "python",
   "pygments_lexer": "ipython3",
   "version": "3.6.8"
  }
 },
 "nbformat": 4,
 "nbformat_minor": 2
}
